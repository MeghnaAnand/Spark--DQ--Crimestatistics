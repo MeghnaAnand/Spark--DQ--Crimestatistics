{
 "cells": [
  {
   "cell_type": "code",
   "execution_count": 0,
   "metadata": {
    "application/vnd.databricks.v1+cell": {
     "cellMetadata": {
      "byteLimit": 2048000,
      "rowLimit": 10000
     },
     "inputWidgets": {},
     "nuid": "38a5e452-dd5b-4eee-ac89-f750937d1cf1",
     "showTitle": false,
     "tableResultSettingsMap": {},
     "title": ""
    }
   },
   "outputs": [],
   "source": [
    "df = spark.table(\"workspace.crimestatics.total_reported_offences_1950_2023\")\n",
    "display(df)"
   ]
  },
  {
   "cell_type": "code",
   "execution_count": 0,
   "metadata": {
    "application/vnd.databricks.v1+cell": {
     "cellMetadata": {
      "byteLimit": 2048000,
      "rowLimit": 10000
     },
     "inputWidgets": {},
     "nuid": "abc6fd2c-10a2-452a-b596-6147e1b580cd",
     "showTitle": false,
     "tableResultSettingsMap": {
      "0": {
       "dataGridStateBlob": "{\"version\":1,\"tableState\":{\"columnPinning\":{\"left\":[\"#row_number#\"],\"right\":[]},\"columnSizing\":{},\"columnVisibility\":{}},\"settings\":{\"columns\":{}},\"syncTimestamp\":1756982847468}",
       "filterBlob": null,
       "queryPlanFiltersBlob": null,
       "tableResultIndex": 0
      },
      "1": {
       "dataGridStateBlob": "{\"version\":1,\"tableState\":{\"columnPinning\":{\"left\":[\"#row_number#\"],\"right\":[]},\"columnSizing\":{},\"columnVisibility\":{}},\"settings\":{\"columns\":{}},\"syncTimestamp\":1756982830454}",
       "filterBlob": null,
       "queryPlanFiltersBlob": null,
       "tableResultIndex": 1
      }
     },
     "title": ""
    }
   },
   "outputs": [],
   "source": [
    "import pyspark.sql.functions as F\n",
    "from pyspark.sql.functions import col\n",
    "from functools import reduce\n",
    "from pyspark.sql.types import IntegerType, FloatType, DoubleType\n",
    "\n",
    "# load the data\n",
    "df = spark.table(\"workspace.crimestatics.total_reported_offences_1950_2023\")\n",
    "\n",
    "# check missing values\n",
    "missing_values = df.select(\n",
    "    [F.sum(col(noVal).isNull().cast(\"int\")).alias(noVal) for noVal in df.columns]\n",
    ")\n",
    "\n",
    "# display all rows with missing values\n",
    "rows_with_missing_values = df.filter(\n",
    "    reduce(lambda a, b: a | b, [col(c).isNull() for c in df.columns])\n",
    ")\n",
    "\n",
    "# Total number of crimes >= sum of other specific categories\n",
    "category_cols = df.columns[2:] \n",
    "df = df.withColumn('sum_categories', sum([col(c) for c in category_cols]))\n",
    "inconsistency = df.filter(col('Total number of crimes') < col('sum_categories'))\n",
    "\n",
    "# Duplicates\n",
    "duplicates = df.groupBy(df.columns).count().filter(\"count > 1\")\n",
    "num_duplicates = duplicates.count()\n",
    "\n",
    "# Range checks (no negative numbers)\n",
    "numeric_cols = [c for c in df.columns if df.schema[c].dataType in [IntegerType(), FloatType(), DoubleType()]]\n",
    "if numeric_cols:\n",
    "    negative_values = df.filter(reduce(lambda a, b: a | b, [col(c) < 0 for c in numeric_cols]))\n",
    "else:\n",
    "    negative_values = spark.createDataFrame([], df.schema)\n",
    "\n",
    "print(\"Missing Values\")\n",
    "display(missing_values)\n",
    "print(\"Rows with missing values\")\n",
    "display(rows_with_missing_values)\n",
    "print(\"Inconsistency\")\n",
    "display(inconsistency)\n",
    "print(f\"Number of duplicate rows: {num_duplicates}\")\n",
    "print(\"Negative Values\")\n",
    "display(negative_values)"
   ]
  },
  {
   "cell_type": "code",
   "execution_count": 0,
   "metadata": {
    "application/vnd.databricks.v1+cell": {
     "cellMetadata": {
      "byteLimit": 2048000,
      "rowLimit": 10000
     },
     "inputWidgets": {},
     "nuid": "5827b598-9ac0-450b-803c-84087772731c",
     "showTitle": false,
     "tableResultSettingsMap": {},
     "title": ""
    }
   },
   "outputs": [],
   "source": []
  }
 ],
 "metadata": {
  "application/vnd.databricks.v1+notebook": {
   "computePreferences": null,
   "dashboards": [],
   "environmentMetadata": {
    "base_environment": "",
    "environment_version": "3"
   },
   "inputWidgetPreferences": null,
   "language": "python",
   "notebookMetadata": {
    "pythonIndentUnit": 4
   },
   "notebookName": "Spark -DQ- Crimestatistics",
   "widgets": {}
  },
  "language_info": {
   "name": "python"
  }
 },
 "nbformat": 4,
 "nbformat_minor": 0
}
